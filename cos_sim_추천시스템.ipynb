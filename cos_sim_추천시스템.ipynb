{
 "cells": [
  {
   "cell_type": "code",
   "execution_count": 8,
   "metadata": {},
   "outputs": [
    {
     "data": {
      "text/html": [
       "<div>\n",
       "<style scoped>\n",
       "    .dataframe tbody tr th:only-of-type {\n",
       "        vertical-align: middle;\n",
       "    }\n",
       "\n",
       "    .dataframe tbody tr th {\n",
       "        vertical-align: top;\n",
       "    }\n",
       "\n",
       "    .dataframe thead th {\n",
       "        text-align: right;\n",
       "    }\n",
       "</style>\n",
       "<table border=\"1\" class=\"dataframe\">\n",
       "  <thead>\n",
       "    <tr style=\"text-align: right;\">\n",
       "      <th></th>\n",
       "      <th>foodname</th>\n",
       "      <th>spicy</th>\n",
       "      <th>sour</th>\n",
       "      <th>salty</th>\n",
       "      <th>oily</th>\n",
       "    </tr>\n",
       "  </thead>\n",
       "  <tbody>\n",
       "    <tr>\n",
       "      <th>0</th>\n",
       "      <td>gaji-gui</td>\n",
       "      <td>1</td>\n",
       "      <td>4</td>\n",
       "      <td>2</td>\n",
       "      <td>3</td>\n",
       "    </tr>\n",
       "    <tr>\n",
       "      <th>1</th>\n",
       "      <td>galbi-gui</td>\n",
       "      <td>2</td>\n",
       "      <td>1</td>\n",
       "      <td>3</td>\n",
       "      <td>4</td>\n",
       "    </tr>\n",
       "    <tr>\n",
       "      <th>2</th>\n",
       "      <td>galbi-jjim</td>\n",
       "      <td>4</td>\n",
       "      <td>1</td>\n",
       "      <td>3</td>\n",
       "      <td>2</td>\n",
       "    </tr>\n",
       "    <tr>\n",
       "      <th>3</th>\n",
       "      <td>gamja-bokkeum</td>\n",
       "      <td>2</td>\n",
       "      <td>1</td>\n",
       "      <td>3</td>\n",
       "      <td>4</td>\n",
       "    </tr>\n",
       "    <tr>\n",
       "      <th>4</th>\n",
       "      <td>gamja-twigim</td>\n",
       "      <td>4</td>\n",
       "      <td>1</td>\n",
       "      <td>2</td>\n",
       "      <td>3</td>\n",
       "    </tr>\n",
       "    <tr>\n",
       "      <th>...</th>\n",
       "      <td>...</td>\n",
       "      <td>...</td>\n",
       "      <td>...</td>\n",
       "      <td>...</td>\n",
       "      <td>...</td>\n",
       "    </tr>\n",
       "    <tr>\n",
       "      <th>77</th>\n",
       "      <td>haejangguk</td>\n",
       "      <td>3</td>\n",
       "      <td>1</td>\n",
       "      <td>2</td>\n",
       "      <td>4</td>\n",
       "    </tr>\n",
       "    <tr>\n",
       "      <th>78</th>\n",
       "      <td>hoe-muchim</td>\n",
       "      <td>3</td>\n",
       "      <td>1</td>\n",
       "      <td>4</td>\n",
       "      <td>2</td>\n",
       "    </tr>\n",
       "    <tr>\n",
       "      <th>79</th>\n",
       "      <td>huraideu-chicken</td>\n",
       "      <td>3</td>\n",
       "      <td>1</td>\n",
       "      <td>4</td>\n",
       "      <td>2</td>\n",
       "    </tr>\n",
       "    <tr>\n",
       "      <th>80</th>\n",
       "      <td>hunjeori</td>\n",
       "      <td>2</td>\n",
       "      <td>3</td>\n",
       "      <td>4</td>\n",
       "      <td>1</td>\n",
       "    </tr>\n",
       "    <tr>\n",
       "      <th>81</th>\n",
       "      <td>huin-juk</td>\n",
       "      <td>4</td>\n",
       "      <td>3</td>\n",
       "      <td>2</td>\n",
       "      <td>1</td>\n",
       "    </tr>\n",
       "  </tbody>\n",
       "</table>\n",
       "<p>82 rows × 5 columns</p>\n",
       "</div>"
      ],
      "text/plain": [
       "            foodname  spicy  sour  salty  oily\n",
       "0           gaji-gui      1     4      2     3\n",
       "1          galbi-gui      2     1      3     4\n",
       "2         galbi-jjim      4     1      3     2\n",
       "3      gamja-bokkeum      2     1      3     4\n",
       "4       gamja-twigim      4     1      2     3\n",
       "..               ...    ...   ...    ...   ...\n",
       "77        haejangguk      3     1      2     4\n",
       "78        hoe-muchim      3     1      4     2\n",
       "79  huraideu-chicken      3     1      4     2\n",
       "80          hunjeori      2     3      4     1\n",
       "81          huin-juk      4     3      2     1\n",
       "\n",
       "[82 rows x 5 columns]"
      ]
     },
     "execution_count": 8,
     "metadata": {},
     "output_type": "execute_result"
    }
   ],
   "source": [
    "import pandas as pd\n",
    "import numpy as np\n",
    "import random\n",
    "random.seed(42)\n",
    "\n",
    "food_list = [\"gaji-gui\", \"galbi-gui\", \"galbi-jjim\", \"gamja-bokkeum\", \"gamja-twigim\", \"geon-saewoo-bokkeum\", \"gejang\", \"gyeongdan\", \"gyeran-mari\", \"gyeranhurai\", \"godeungeo-gui\",   \"gorgonzola-pizza\", \"gochu-jangajji\", \"ojingeochae-muchim\", \"gopchang-jeongol\", \"gunmandu\", \"gimbap\", \"kimchi-bokkeumbap\", \"kimchi-jjigae\", \"kkakdugi\", \"naengmyeon\", \"dakgalbi\", \"dakjjim\", \"doenjang-jjigae\", \"dubu-gimchi\", \"tteokgalbi\", \"tteokguk\", \"tteokbokki\", \"ramyeon\", \"maneul-jangajji\", \"margherita-pizza\", \"mandu-guk\", \"modeum-twigim\", \"miyeokguk\", \"baechu-kimchi\", \"bo-ssam\", \"budae-jjigae\", \"bulgogi\", \"bibim-guksu\", \"bibim-naengmyeon\", \"bibimbap\", \"samgyeopsal-gui\", \"samgyetang\", \"saeu-bokkeumbap\", \"saeu-twigim\", \"saengseonjeon\", \"soseji-bokkeum\", \"songpyeon\", \"sukjunamul\", \"sundae\", \"sigumchi-namul\", \"al-bap\", \"aehobak-bokkeum\", \"yangnyeom-chicken\", \"omeu-raiseu\", \"udong\", \"yubuchobap\", \"yukhoe\", \"japgokbap\", \"japchae\", \"jangeogui\", \"jangjorim\", \"dwaejigogi-bokkeum\", \"jokbal\", \"gimgaru-jumeokbap\", \"jjajangmyeon\", \"jjamppong\", \"jjokgalbigui\", \"jjukkumi-bokkeum\", \"jjinmandu\", \"cheese-pizza\", \"curry-rice\", \"combination-pizza\", \"kongguksu\", \"pajeon\", \"hangwa\", \"haemuljjim\", \"haejangguk\", \"hoe-muchim\", \"huraideu-chicken\", \"hunjeori\", \"huin-juk\"]\n",
    "nums = [1,2,3,4]\n",
    "#랜덤으로 값 생성\n",
    "values = np.array([random.sample(nums, len(nums))  for i in range(len(food_list))]).T\n",
    "df = pd.DataFrame(values, index=['spicy','sour','salty','oily'], columns=food_list).T.reset_index().rename(columns={'index':'foodname'})\n",
    "df.to_csv('./data.csv', index=False)\n",
    "pd.read_csv('./data.csv')\n"
   ]
  },
  {
   "cell_type": "code",
   "execution_count": 5,
   "metadata": {},
   "outputs": [
    {
     "data": {
      "text/plain": [
       "[['gaji-gui', '1', '4', '2', '3'],\n",
       " ['galbi-gui', '2', '1', '3', '4'],\n",
       " ['galbi-jjim', '4', '1', '3', '2'],\n",
       " ['gamja-bokkeum', '2', '1', '3', '4'],\n",
       " ['gamja-twigim', '4', '1', '2', '3'],\n",
       " ['geon-saewoo-bokkeum', '1', '4', '2', '3'],\n",
       " ['gejang', '3', '1', '4', '2'],\n",
       " ['gyeongdan', '1', '4', '2', '3'],\n",
       " ['gyeran-mari', '3', '2', '4', '1'],\n",
       " ['gyeranhurai', '4', '3', '1', '2'],\n",
       " ['godeungeo-gui', '1', '3', '2', '4'],\n",
       " ['gorgonzola-pizza', '2', '3', '1', '4'],\n",
       " ['gochu-jangajji', '2', '4', '1', '3'],\n",
       " ['ojingeochae-muchim', '1', '2', '3', '4'],\n",
       " ['gopchang-jeongol', '3', '1', '2', '4'],\n",
       " ['gunmandu', '2', '3', '4', '1'],\n",
       " ['gimbap', '2', '3', '1', '4'],\n",
       " ['kimchi-bokkeumbap', '4', '2', '3', '1'],\n",
       " ['kimchi-jjigae', '3', '1', '4', '2'],\n",
       " ['kkakdugi', '3', '2', '4', '1'],\n",
       " ['naengmyeon', '2', '3', '4', '1'],\n",
       " ['dakgalbi', '4', '2', '3', '1'],\n",
       " ['dakjjim', '3', '1', '4', '2'],\n",
       " ['doenjang-jjigae', '4', '3', '2', '1'],\n",
       " ['dubu-gimchi', '2', '1', '4', '3'],\n",
       " ['tteokgalbi', '1', '4', '3', '2'],\n",
       " ['tteokguk', '4', '3', '1', '2'],\n",
       " ['tteokbokki', '4', '3', '2', '1'],\n",
       " ['ramyeon', '1', '3', '4', '2'],\n",
       " ['maneul-jangajji', '3', '1', '2', '4'],\n",
       " ['margherita-pizza', '2', '4', '1', '3'],\n",
       " ['mandu-guk', '2', '3', '1', '4'],\n",
       " ['modeum-twigim', '2', '1', '4', '3'],\n",
       " ['miyeokguk', '1', '3', '2', '4'],\n",
       " ['baechu-kimchi', '1', '4', '2', '3'],\n",
       " ['bo-ssam', '2', '1', '3', '4'],\n",
       " ['budae-jjigae', '1', '3', '2', '4'],\n",
       " ['bulgogi', '2', '1', '4', '3'],\n",
       " ['bibim-guksu', '3', '4', '2', '1'],\n",
       " ['bibim-naengmyeon', '2', '3', '4', '1'],\n",
       " ['bibimbap', '3', '2', '4', '1'],\n",
       " ['samgyeopsal-gui', '2', '1', '3', '4'],\n",
       " ['samgyetang', '1', '3', '4', '2'],\n",
       " ['saeu-bokkeumbap', '1', '4', '3', '2'],\n",
       " ['saeu-twigim', '1', '4', '2', '3'],\n",
       " ['saengseonjeon', '2', '4', '3', '1'],\n",
       " ['soseji-bokkeum', '2', '3', '4', '1'],\n",
       " ['songpyeon', '4', '2', '1', '3'],\n",
       " ['sukjunamul', '1', '3', '2', '4'],\n",
       " ['sundae', '4', '2', '3', '1'],\n",
       " ['sigumchi-namul', '1', '4', '2', '3'],\n",
       " ['al-bap', '1', '4', '3', '2'],\n",
       " ['aehobak-bokkeum', '4', '1', '2', '3'],\n",
       " ['yangnyeom-chicken', '3', '2', '1', '4'],\n",
       " ['omeu-raiseu', '4', '3', '1', '2'],\n",
       " ['udong', '1', '4', '3', '2'],\n",
       " ['yubuchobap', '4', '2', '3', '1'],\n",
       " ['yukhoe', '4', '1', '3', '2'],\n",
       " ['japgokbap', '1', '2', '3', '4'],\n",
       " ['japchae', '3', '2', '4', '1'],\n",
       " ['jangeogui', '2', '4', '1', '3'],\n",
       " ['jangjorim', '1', '3', '2', '4'],\n",
       " ['dwaejigogi-bokkeum', '1', '3', '2', '4'],\n",
       " ['jokbal', '1', '3', '4', '2'],\n",
       " ['gimgaru-jumeokbap', '1', '3', '4', '2'],\n",
       " ['jjajangmyeon', '4', '1', '3', '2'],\n",
       " ['jjamppong', '1', '2', '3', '4'],\n",
       " ['jjokgalbigui', '2', '3', '4', '1'],\n",
       " ['jjukkumi-bokkeum', '3', '2', '1', '4'],\n",
       " ['jjinmandu', '4', '2', '1', '3'],\n",
       " ['cheese-pizza', '4', '3', '1', '2'],\n",
       " ['curry-rice', '2', '3', '4', '1'],\n",
       " ['combination-pizza', '3', '1', '4', '2'],\n",
       " ['kongguksu', '3', '1', '2', '4'],\n",
       " ['pajeon', '1', '3', '2', '4'],\n",
       " ['hangwa', '2', '4', '1', '3'],\n",
       " ['haemuljjim', '2', '4', '3', '1'],\n",
       " ['haejangguk', '3', '1', '2', '4'],\n",
       " ['hoe-muchim', '3', '1', '4', '2'],\n",
       " ['huraideu-chicken', '3', '1', '4', '2'],\n",
       " ['hunjeori', '2', '3', '4', '1'],\n",
       " ['huin-juk', '4', '3', '2', '1']]"
      ]
     },
     "execution_count": 5,
     "metadata": {},
     "output_type": "execute_result"
    }
   ],
   "source": [
    "import csv\n",
    "def read_csv(csv_path, head=False):\n",
    "    '''\n",
    "    @param csv_path: csv file path\n",
    "    @param head: boolean if get head first row data will be return by header\n",
    "    '''\n",
    "    data = []\n",
    "    with open(csv_path, 'r', encoding='utf-8') as f:\n",
    "       csv_reader = csv.reader(f)\n",
    "       if head:\n",
    "           header = next(csv_reader)\n",
    "       else:\n",
    "           header = None\n",
    "       for row in csv_reader:\n",
    "           data.append(row)\n",
    "\n",
    "    return header, data\n",
    "\n",
    "\n",
    "data_path = './data.csv'#원본데이터 경로\n",
    "csv_header, csv_data = read_csv(data_path, head=True)\n",
    "csv_data"
   ]
  },
  {
   "cell_type": "code",
   "execution_count": 6,
   "metadata": {},
   "outputs": [
    {
     "name": "stdout",
     "output_type": "stream",
     "text": [
      "0.7453559924999299\n"
     ]
    },
    {
     "data": {
      "text/plain": [
       "0.9939990885479664"
      ]
     },
     "execution_count": 6,
     "metadata": {},
     "output_type": "execute_result"
    }
   ],
   "source": [
    "from numpy.linalg import norm\n",
    "from numpy import dot\n",
    "def cos_sim(A, B):\n",
    "  return dot(A, B)/(norm(A)*norm(B))\n",
    "\n",
    "#코사인 유사도, 1일 수록 가까운 것\n",
    "print(cos_sim([1,2,3,4], [5,4,3,2]))\n",
    "cos_sim([1,2,3,4], [1,2,3,5])"
   ]
  },
  {
   "cell_type": "code",
   "execution_count": 9,
   "metadata": {},
   "outputs": [
    {
     "ename": "ValueError",
     "evalue": "shapes (5,) and (4,) not aligned: 5 (dim 0) != 4 (dim 0)",
     "output_type": "error",
     "traceback": [
      "\u001b[0;31m---------------------------------------------------------------------------\u001b[0m",
      "\u001b[0;31mValueError\u001b[0m                                Traceback (most recent call last)",
      "\u001b[1;32m/mnt/ysy/cos_sim_수현님.ipynb Cell 4'\u001b[0m in \u001b[0;36m<module>\u001b[0;34m\u001b[0m\n\u001b[1;32m     <a href='vscode-notebook-cell://ssh-remote%2B7b22686f73744e616d65223a22656c6963652d6b64742d61692d3372642d7465616d30372e6b6f72656163656e7472616c2e636c6f75646170702e617a7572652e636f6d222c2275736572223a227465616d3037227d/mnt/ysy/cos_sim_%EC%88%98%ED%98%84%EB%8B%98.ipynb#ch0000003vscode-remote?line=9'>10</a>\u001b[0m df1 \u001b[39m=\u001b[39m df\u001b[39m.\u001b[39mcopy()\n\u001b[1;32m     <a href='vscode-notebook-cell://ssh-remote%2B7b22686f73744e616d65223a22656c6963652d6b64742d61692d3372642d7465616d30372e6b6f72656163656e7472616c2e636c6f75646170702e617a7572652e636f6d222c2275736572223a227465616d3037227d/mnt/ysy/cos_sim_%EC%88%98%ED%98%84%EB%8B%98.ipynb#ch0000003vscode-remote?line=10'>11</a>\u001b[0m user_score \u001b[39m=\u001b[39m [\u001b[39m3\u001b[39m,\u001b[39m2\u001b[39m,\u001b[39m1\u001b[39m,\u001b[39m5\u001b[39m]\n\u001b[0;32m---> <a href='vscode-notebook-cell://ssh-remote%2B7b22686f73744e616d65223a22656c6963652d6b64742d61692d3372642d7465616d30372e6b6f72656163656e7472616c2e636c6f75646170702e617a7572652e636f6d222c2275736572223a227465616d3037227d/mnt/ysy/cos_sim_%EC%88%98%ED%98%84%EB%8B%98.ipynb#ch0000003vscode-remote?line=11'>12</a>\u001b[0m recommender_system(df1, user_score)\n",
      "\u001b[1;32m/mnt/ysy/cos_sim_수현님.ipynb Cell 4'\u001b[0m in \u001b[0;36mrecommender_system\u001b[0;34m(df, user_score)\u001b[0m\n\u001b[1;32m      <a href='vscode-notebook-cell://ssh-remote%2B7b22686f73744e616d65223a22656c6963652d6b64742d61692d3372642d7465616d30372e6b6f72656163656e7472616c2e636c6f75646170702e617a7572652e636f6d222c2275736572223a227465616d3037227d/mnt/ysy/cos_sim_%EC%88%98%ED%98%84%EB%8B%98.ipynb#ch0000003vscode-remote?line=3'>4</a>\u001b[0m result \u001b[39m=\u001b[39m []\n\u001b[1;32m      <a href='vscode-notebook-cell://ssh-remote%2B7b22686f73744e616d65223a22656c6963652d6b64742d61692d3372642d7465616d30372e6b6f72656163656e7472616c2e636c6f75646170702e617a7572652e636f6d222c2275736572223a227465616d3037227d/mnt/ysy/cos_sim_%EC%88%98%ED%98%84%EB%8B%98.ipynb#ch0000003vscode-remote?line=4'>5</a>\u001b[0m \u001b[39mfor\u001b[39;00m i \u001b[39min\u001b[39;00m \u001b[39mrange\u001b[39m(df\u001b[39m.\u001b[39mshape[\u001b[39m0\u001b[39m]):\n\u001b[0;32m----> <a href='vscode-notebook-cell://ssh-remote%2B7b22686f73744e616d65223a22656c6963652d6b64742d61692d3372642d7465616d30372e6b6f72656163656e7472616c2e636c6f75646170702e617a7572652e636f6d222c2275736572223a227465616d3037227d/mnt/ysy/cos_sim_%EC%88%98%ED%98%84%EB%8B%98.ipynb#ch0000003vscode-remote?line=5'>6</a>\u001b[0m     result\u001b[39m.\u001b[39mappend(cos_sim(df\u001b[39m.\u001b[39;49miloc[i,:]\u001b[39m.\u001b[39;49mtolist(), user_score))\n\u001b[1;32m      <a href='vscode-notebook-cell://ssh-remote%2B7b22686f73744e616d65223a22656c6963652d6b64742d61692d3372642d7465616d30372e6b6f72656163656e7472616c2e636c6f75646170702e617a7572652e636f6d222c2275736572223a227465616d3037227d/mnt/ysy/cos_sim_%EC%88%98%ED%98%84%EB%8B%98.ipynb#ch0000003vscode-remote?line=6'>7</a>\u001b[0m df[\u001b[39m'\u001b[39m\u001b[39mcos_sim\u001b[39m\u001b[39m'\u001b[39m] \u001b[39m=\u001b[39m result\n\u001b[1;32m      <a href='vscode-notebook-cell://ssh-remote%2B7b22686f73744e616d65223a22656c6963652d6b64742d61692d3372642d7465616d30372e6b6f72656163656e7472616c2e636c6f75646170702e617a7572652e636f6d222c2275736572223a227465616d3037227d/mnt/ysy/cos_sim_%EC%88%98%ED%98%84%EB%8B%98.ipynb#ch0000003vscode-remote?line=7'>8</a>\u001b[0m \u001b[39mreturn\u001b[39;00m df\u001b[39m.\u001b[39msort_values(\u001b[39m'\u001b[39m\u001b[39mcos_sim\u001b[39m\u001b[39m'\u001b[39m, ascending\u001b[39m=\u001b[39m\u001b[39mFalse\u001b[39;00m)\u001b[39m.\u001b[39mindex[:\u001b[39m3\u001b[39m]\n",
      "\u001b[1;32m/mnt/ysy/cos_sim_수현님.ipynb Cell 3'\u001b[0m in \u001b[0;36mcos_sim\u001b[0;34m(A, B)\u001b[0m\n\u001b[1;32m      <a href='vscode-notebook-cell://ssh-remote%2B7b22686f73744e616d65223a22656c6963652d6b64742d61692d3372642d7465616d30372e6b6f72656163656e7472616c2e636c6f75646170702e617a7572652e636f6d222c2275736572223a227465616d3037227d/mnt/ysy/cos_sim_%EC%88%98%ED%98%84%EB%8B%98.ipynb#ch0000002vscode-remote?line=2'>3</a>\u001b[0m \u001b[39mdef\u001b[39;00m \u001b[39mcos_sim\u001b[39m(A, B):\n\u001b[0;32m----> <a href='vscode-notebook-cell://ssh-remote%2B7b22686f73744e616d65223a22656c6963652d6b64742d61692d3372642d7465616d30372e6b6f72656163656e7472616c2e636c6f75646170702e617a7572652e636f6d222c2275736572223a227465616d3037227d/mnt/ysy/cos_sim_%EC%88%98%ED%98%84%EB%8B%98.ipynb#ch0000002vscode-remote?line=3'>4</a>\u001b[0m   \u001b[39mreturn\u001b[39;00m dot(A, B)\u001b[39m/\u001b[39m(norm(A)\u001b[39m*\u001b[39mnorm(B))\n",
      "File \u001b[0;32m<__array_function__ internals>:180\u001b[0m, in \u001b[0;36mdot\u001b[0;34m(*args, **kwargs)\u001b[0m\n",
      "\u001b[0;31mValueError\u001b[0m: shapes (5,) and (4,) not aligned: 5 (dim 0) != 4 (dim 0)"
     ]
    }
   ],
   "source": [
    "# pandas DataFrame 전용 function\n",
    "# 나중에 df는 csv로 불러오기\n",
    "def recommender_system(df, user_score=list):\n",
    "    result = []\n",
    "    for i in range(df.shape[0]):\n",
    "        result.append(cos_sim(df.iloc[i,:].tolist(), user_score))\n",
    "    df['cos_sim'] = result\n",
    "    return df.sort_values('cos_sim', ascending=False).index[:3]\n",
    "\n",
    "df1 = df.copy()\n",
    "user_score = [3,2,1,5]\n",
    "recommender_system(df1, user_score)"
   ]
  },
  {
   "cell_type": "code",
   "execution_count": 10,
   "metadata": {},
   "outputs": [],
   "source": [
    "#csv 라이브러리 사용하는 function\n",
    "def recommender_system(csv_data, user_score=list):\n",
    "    result = []\n",
    "    for i in csv_data:\n",
    "        temp = list(map(int, i[1:]))\n",
    "        result.append([i[0], cos_sim(temp, user_score)])\n",
    "        \n",
    "    return [i[0] for i in sorted(result, key = lambda x:x[1], reverse=True)[:3]]"
   ]
  },
  {
   "cell_type": "code",
   "execution_count": 12,
   "metadata": {},
   "outputs": [
    {
     "data": {
      "text/plain": [
       "['galbi-jjim', 'gamja-twigim', 'gyeranhurai']"
      ]
     },
     "execution_count": 12,
     "metadata": {},
     "output_type": "execute_result"
    }
   ],
   "source": [
    "recommender_system(csv_data, [5,1,1,1])"
   ]
  },
  {
   "cell_type": "code",
   "execution_count": 14,
   "metadata": {},
   "outputs": [
    {
     "data": {
      "text/plain": [
       "['galbi-jjim', 'gamja-twigim', 'gyeranhurai']"
      ]
     },
     "execution_count": 14,
     "metadata": {},
     "output_type": "execute_result"
    }
   ],
   "source": [
    "## 최종 정리\n",
    "import csv\n",
    "from numpy.linalg import norm\n",
    "from numpy import dot\n",
    "\n",
    "#csv 파일 읽기\n",
    "def read_csv(csv_path, head=False):\n",
    "    '''\n",
    "    @param csv_path: csv file path\n",
    "    @param head: boolean if get head first row data will be return by header\n",
    "    '''\n",
    "    data = []\n",
    "    with open(csv_path, 'r', encoding='utf-8') as f:\n",
    "       csv_reader = csv.reader(f)\n",
    "       if head:\n",
    "           header = next(csv_reader)\n",
    "       else:\n",
    "           header = None\n",
    "       for row in csv_reader:\n",
    "           data.append(row)\n",
    "\n",
    "    return header, data\n",
    "\n",
    "#코사인 유사도 계산 함수 \n",
    "def cos_sim(A, B):\n",
    "  return dot(A, B)/(norm(A)*norm(B))\n",
    "\n",
    "#main function\n",
    "def recommender_system(csv_data, user_score=list):\n",
    "    result = []\n",
    "    for i in csv_data:\n",
    "        temp = list(map(int, i[1:]))\n",
    "        result.append([i[0], cos_sim(temp, user_score)])\n",
    "        \n",
    "    return [i[0] for i in sorted(result, key = lambda x:x[1], reverse=True)[:3]]\n",
    "\n",
    "\n",
    "data_path = '/mnt/ysy/data.csv'\n",
    "csv_data = read_csv(data_path, head=True)[1] #return header, data\n",
    "recommender_system(csv_data, [5,1,1,1])"
   ]
  },
  {
   "cell_type": "code",
   "execution_count": 16,
   "metadata": {},
   "outputs": [
    {
     "data": {
      "text/plain": [
       "['huin-juk', 'kimchi-bokkeumbap', 'songpyeon']"
      ]
     },
     "execution_count": 16,
     "metadata": {},
     "output_type": "execute_result"
    }
   ],
   "source": [
    "## 찐최종 - df사용\n",
    "\n",
    "import numpy as np\n",
    "from numpy.linalg import norm\n",
    "import pandas as pd\n",
    "# pandas DataFrame 전용 function\n",
    "#코사인 유사도 계산 함수 \n",
    "def cos_sim(A, B):\n",
    "    return np.dot(A, B)/(norm(A)*norm(B))\n",
    "\n",
    "#main function\n",
    "def recommender_system(df, user_score=list):\n",
    "    result = []\n",
    "    for i in range(df.shape[0]):\n",
    "        result.append(cos_sim(df.iloc[i,1:].tolist(), user_score))\n",
    "    df['cos_sim'] = result\n",
    "    return df.sort_values('cos_sim', ascending=False)['foodname'][:3].tolist()\n",
    "\n",
    "#임시로 csv 불러오기. (df 이 부분은 DB에서 가져와서 넘겨줄 예정)\n",
    "data_path = '/mnt/ysy/data.csv'\n",
    "\n",
    "df = pd.read_csv(data_path)\n",
    "\n",
    "user_score = [5,1,1,1]\n",
    "recommender_system(df, user_score)"
   ]
  },
  {
   "cell_type": "code",
   "execution_count": 17,
   "metadata": {},
   "outputs": [],
   "source": [
    "import numpy as np\n",
    "from numpy.linalg import norm\n",
    "import pandas as pd\n",
    "# pandas DataFrame 전용 function\n",
    "#코사인 유사도 계산 함수 \n",
    "def cos_sim(A, B):\n",
    "    return np.dot(A, B)/(norm(A)*norm(B))\n",
    "\n",
    "#main function\n",
    "def recommender_system(df, user_score=list):\n",
    "    df1 = df.copy()\n",
    "    result = []\n",
    "    for i in range(df1.shape[0]):\n",
    "        result.append(cos_sim(df1.iloc[i,1:].tolist(), user_score))\n",
    "    df1['cos_sim'] = result\n",
    "    return df1.sort_values('cos_sim', ascending=False)['korean_name'][:3].tolist()"
   ]
  },
  {
   "cell_type": "code",
   "execution_count": 18,
   "metadata": {},
   "outputs": [
    {
     "data": {
      "text/plain": [
       "['쭈꾸미볶음', '두부김치', '닭갈비']"
      ]
     },
     "execution_count": 18,
     "metadata": {},
     "output_type": "execute_result"
    }
   ],
   "source": [
    "#임시로 csv 불러오기. (df 이 부분은 DB에서 가져와서 넘겨줄 예정)\n",
    "df = pd.read_csv('/mnt/guri/Kfood.csv')[['korean_name','spicy','sour','salty','oily']]\n",
    "df\n",
    "user_score = [5,1,1,1]\n",
    "recommender_system(df, user_score)"
   ]
  }
 ],
 "metadata": {
  "interpreter": {
   "hash": "916dbcbb3f70747c44a77c7bcd40155683ae19c65e1c03b4aa3499c5328201f1"
  },
  "kernelspec": {
   "display_name": "Python 3.8.10 64-bit",
   "language": "python",
   "name": "python3"
  },
  "language_info": {
   "codemirror_mode": {
    "name": "ipython",
    "version": 3
   },
   "file_extension": ".py",
   "mimetype": "text/x-python",
   "name": "python",
   "nbconvert_exporter": "python",
   "pygments_lexer": "ipython3",
   "version": "3.8.10"
  },
  "orig_nbformat": 4
 },
 "nbformat": 4,
 "nbformat_minor": 2
}
